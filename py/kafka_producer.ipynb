{
 "cells": [
  {
   "cell_type": "code",
   "execution_count": 1,
   "metadata": {},
   "outputs": [],
   "source": [
    "from kafka import KafkaConsumer, KafkaProducer\n",
    "import json,time,csv\n",
    "from datetime import datetime"
   ]
  },
  {
   "cell_type": "code",
   "execution_count": 2,
   "metadata": {},
   "outputs": [],
   "source": [
    "KAFKA_TOPIC_NAME='test'\n",
    "KAFKA_BOOTSTRAP_SERVER='localhost:9092'"
   ]
  },
  {
   "cell_type": "code",
   "execution_count": 3,
   "metadata": {},
   "outputs": [
    {
     "name": "stdout",
     "output_type": "stream",
     "text": [
      "Kafka Producer API started ...\n"
     ]
    }
   ],
   "source": [
    "if __name__==\"__main__\":\n",
    "    print(\"Kafka Producer API started ...\")\n",
    "    kafka_producer_obj=KafkaProducer(bootstrap_servers=KAFKA_BOOTSTRAP_SERVER)\n",
    "    message=None    \n",
    "    file = open('/home/chandramoulin/Documents/data/datagen_10.txt','r')\n",
    "    lines = file.readlines()  \n",
    "    for message in lines:\n",
    "        kafka_producer_obj.send(KAFKA_TOPIC_NAME,str(message))\n",
    "        time.sleep(5)        "
   ]
  }
 ],
 "metadata": {
  "kernelspec": {
   "display_name": "Python 2",
   "language": "python",
   "name": "python2"
  },
  "language_info": {
   "codemirror_mode": {
    "name": "ipython",
    "version": 2
   },
   "file_extension": ".py",
   "mimetype": "text/x-python",
   "name": "python",
   "nbconvert_exporter": "python",
   "pygments_lexer": "ipython2",
   "version": "2.7.16"
  }
 },
 "nbformat": 4,
 "nbformat_minor": 2
}
